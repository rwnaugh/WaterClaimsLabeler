{
  "cells": [
    {
      "cell_type": "code",
      "source": [
        "import tempfile\n",
        "import os\n",
        "from azureml.core import Workspace, Dataset, Datastore\n",
        "from azureml.data import dataset_factory, datapath\n",
        "from IPython.display import display\n",
        "from DataProcessing import combine_notes, clean, text_cleaning"
      ],
      "outputs": [],
      "execution_count": 8,
      "metadata": {
        "jupyter": {
          "outputs_hidden": true
        },
        "gather": {
          "logged": 1708722087763
        }
      }
    },
    {
      "cell_type": "code",
      "source": [
        "workspace = Workspace.from_config()\n",
        "print(workspace.name, workspace.resource_group, workspace.location, workspace.subscription_id, sep='\\n')\n",
        "\n",
        "# previously registered as Datastores\n",
        "pldev_dw_ds = Datastore.get(workspace, 'plddev_dw_sql_db')\n",
        "hanoverlake_ds = Datastore.get(workspace, 'hanoverlake_adls_gen1')\n",
        "plaadl_ds = Datastore.get(workspace, 'plaadl')"
      ],
      "outputs": [
        {
          "output_type": "stream",
          "name": "stdout",
          "text": "plds_ml\nmachine_learning\neastus2\n51bbe03c-c84f-488f-9e90-446bc59e683e\n"
        }
      ],
      "execution_count": 9,
      "metadata": {
        "jupyter": {
          "source_hidden": false,
          "outputs_hidden": false
        },
        "nteract": {
          "transient": {
            "deleting": false
          }
        },
        "gather": {
          "logged": 1708722090341
        }
      }
    },
    {
      "cell_type": "code",
      "source": [
        "query = datapath.DataPath(pldev_dw_ds, \"SELECT * FROM SANDBOX.clm_notes_WW WHERE (WATER_WEATHER = 1 OR WATER_NONWEATHER = 1) AND masked_notetext NOT LIKE 'Restoring claim from M2A accelerator' AND author != 'HCS Converted'\")\n",
        "tabular = Dataset.Tabular.from_sql_query(query, query_timeout=10)\n",
        "test_df = tabular.to_pandas_dataframe()"
      ],
      "outputs": [],
      "execution_count": 17,
      "metadata": {
        "jupyter": {
          "source_hidden": false,
          "outputs_hidden": false
        },
        "nteract": {
          "transient": {
            "deleting": false
          }
        },
        "gather": {
          "logged": 1708722302619
        }
      }
    },
    {
      "cell_type": "code",
      "source": [
        "test_df.head()"
      ],
      "outputs": [
        {
          "output_type": "execute_result",
          "execution_count": 16,
          "data": {
            "text/plain": "         id      CLM_NBR  POL_NBR POL_MOD  WATER_NONWEATHER  WATER_WEATHER  \\\n0   9252091  19-00904808  6379953      19                 0              1   \n1  46328708  19-00391764  D749706      00                 0              1   \n2  43272594  19-00233198  D538926      00                 1              0   \n3  43882261  19-00264303  A672891      03                 1              0   \n4   9249878  15-00528550  5412112      19                 0              1   \n\n              PERIL PREM_LOSS_MAPPING_RPTD_CAT  CURR_CAT_IND  RPTD_CAT_IND  \\\n0     WATER_WEATHER              Water Weather             1             1   \n1     WATER_WEATHER              Water Weather             1             1   \n2  WATER_NONWEATHER           Water NonWeather             0             0   \n3  WATER_NONWEATHER           Water NonWeather             0             0   \n4     WATER_WEATHER              Water Weather             1             1   \n\n   ...                                  RPTD_CAT_TYP_DESC UMBRELLA_IND  \\\n0  ...  Hurricane & Tropical Storms                   ...            0   \n1  ...  Tornado/Wind/Hail/Flood                       ...            0   \n2  ...                                               None            0   \n3  ...                                               None            0   \n4  ...  Freezing & Winter Storms                      ...            0   \n\n                                     masked_notetext relatedto exposurenbr  \\\n0  AssigneeType:Employee Status:Acknowledged Assi...     Claim        None   \n1  ***INSPECTION/INVESTIGATION  ***Present at Ins...     Claim        None   \n2                               Approve reassignment  Activity        None   \n3  ***WATER MITIGATION:   Vendor Name: Service Ma...  Activity        None   \n4  AssigneeType:Employee Status:Completed Assigne...     Claim        None   \n\n           author            authoringdate    topic securitytype LOB  \n0   HCS Converted      2021-09-18 07:44:35  General       Public  HO  \n1  brian olmstead  2019-02-20 10:27:26.787  General         None  HO  \n2     adam barton      2018-06-12 15:56:54      MIP         None  HO  \n3   daniel harris      2018-08-02 09:33:48  General         None  HO  \n4   HCS Converted      2021-09-18 07:44:35  General       Public  HO  \n\n[5 rows x 21 columns]",
            "text/html": "<div>\n<style scoped>\n    .dataframe tbody tr th:only-of-type {\n        vertical-align: middle;\n    }\n\n    .dataframe tbody tr th {\n        vertical-align: top;\n    }\n\n    .dataframe thead th {\n        text-align: right;\n    }\n</style>\n<table border=\"1\" class=\"dataframe\">\n  <thead>\n    <tr style=\"text-align: right;\">\n      <th></th>\n      <th>id</th>\n      <th>CLM_NBR</th>\n      <th>POL_NBR</th>\n      <th>POL_MOD</th>\n      <th>WATER_NONWEATHER</th>\n      <th>WATER_WEATHER</th>\n      <th>PERIL</th>\n      <th>PREM_LOSS_MAPPING_RPTD_CAT</th>\n      <th>CURR_CAT_IND</th>\n      <th>RPTD_CAT_IND</th>\n      <th>...</th>\n      <th>RPTD_CAT_TYP_DESC</th>\n      <th>UMBRELLA_IND</th>\n      <th>masked_notetext</th>\n      <th>relatedto</th>\n      <th>exposurenbr</th>\n      <th>author</th>\n      <th>authoringdate</th>\n      <th>topic</th>\n      <th>securitytype</th>\n      <th>LOB</th>\n    </tr>\n  </thead>\n  <tbody>\n    <tr>\n      <th>0</th>\n      <td>9252091</td>\n      <td>19-00904808</td>\n      <td>6379953</td>\n      <td>19</td>\n      <td>0</td>\n      <td>1</td>\n      <td>WATER_WEATHER</td>\n      <td>Water Weather</td>\n      <td>1</td>\n      <td>1</td>\n      <td>...</td>\n      <td>Hurricane &amp; Tropical Storms                   ...</td>\n      <td>0</td>\n      <td>AssigneeType:Employee Status:Acknowledged Assi...</td>\n      <td>Claim</td>\n      <td>None</td>\n      <td>HCS Converted</td>\n      <td>2021-09-18 07:44:35</td>\n      <td>General</td>\n      <td>Public</td>\n      <td>HO</td>\n    </tr>\n    <tr>\n      <th>1</th>\n      <td>46328708</td>\n      <td>19-00391764</td>\n      <td>D749706</td>\n      <td>00</td>\n      <td>0</td>\n      <td>1</td>\n      <td>WATER_WEATHER</td>\n      <td>Water Weather</td>\n      <td>1</td>\n      <td>1</td>\n      <td>...</td>\n      <td>Tornado/Wind/Hail/Flood                       ...</td>\n      <td>0</td>\n      <td>***INSPECTION/INVESTIGATION  ***Present at Ins...</td>\n      <td>Claim</td>\n      <td>None</td>\n      <td>brian olmstead</td>\n      <td>2019-02-20 10:27:26.787</td>\n      <td>General</td>\n      <td>None</td>\n      <td>HO</td>\n    </tr>\n    <tr>\n      <th>2</th>\n      <td>43272594</td>\n      <td>19-00233198</td>\n      <td>D538926</td>\n      <td>00</td>\n      <td>1</td>\n      <td>0</td>\n      <td>WATER_NONWEATHER</td>\n      <td>Water NonWeather</td>\n      <td>0</td>\n      <td>0</td>\n      <td>...</td>\n      <td>None</td>\n      <td>0</td>\n      <td>Approve reassignment</td>\n      <td>Activity</td>\n      <td>None</td>\n      <td>adam barton</td>\n      <td>2018-06-12 15:56:54</td>\n      <td>MIP</td>\n      <td>None</td>\n      <td>HO</td>\n    </tr>\n    <tr>\n      <th>3</th>\n      <td>43882261</td>\n      <td>19-00264303</td>\n      <td>A672891</td>\n      <td>03</td>\n      <td>1</td>\n      <td>0</td>\n      <td>WATER_NONWEATHER</td>\n      <td>Water NonWeather</td>\n      <td>0</td>\n      <td>0</td>\n      <td>...</td>\n      <td>None</td>\n      <td>0</td>\n      <td>***WATER MITIGATION:   Vendor Name: Service Ma...</td>\n      <td>Activity</td>\n      <td>None</td>\n      <td>daniel harris</td>\n      <td>2018-08-02 09:33:48</td>\n      <td>General</td>\n      <td>None</td>\n      <td>HO</td>\n    </tr>\n    <tr>\n      <th>4</th>\n      <td>9249878</td>\n      <td>15-00528550</td>\n      <td>5412112</td>\n      <td>19</td>\n      <td>0</td>\n      <td>1</td>\n      <td>WATER_WEATHER</td>\n      <td>Water Weather</td>\n      <td>1</td>\n      <td>1</td>\n      <td>...</td>\n      <td>Freezing &amp; Winter Storms                      ...</td>\n      <td>0</td>\n      <td>AssigneeType:Employee Status:Completed Assigne...</td>\n      <td>Claim</td>\n      <td>None</td>\n      <td>HCS Converted</td>\n      <td>2021-09-18 07:44:35</td>\n      <td>General</td>\n      <td>Public</td>\n      <td>HO</td>\n    </tr>\n  </tbody>\n</table>\n<p>5 rows × 21 columns</p>\n</div>"
          },
          "metadata": {}
        }
      ],
      "execution_count": 16,
      "metadata": {
        "jupyter": {
          "source_hidden": false,
          "outputs_hidden": false
        },
        "nteract": {
          "transient": {
            "deleting": false
          }
        },
        "gather": {
          "logged": 1708722303427
        }
      }
    },
    {
      "cell_type": "code",
      "source": [
        "text_cleaning(test_df, 'masked_notetext')"
      ],
      "outputs": [
        {
          "output_type": "error",
          "ename": "TypeError",
          "evalue": "expected string or bytes-like object",
          "traceback": [
            "\u001b[0;31m---------------------------------------------------------------------------\u001b[0m",
            "\u001b[0;31mTypeError\u001b[0m                                 Traceback (most recent call last)",
            "Cell \u001b[0;32mIn[13], line 1\u001b[0m\n\u001b[0;32m----> 1\u001b[0m \u001b[43mtext_cleaning\u001b[49m\u001b[43m(\u001b[49m\u001b[43mtest_df\u001b[49m\u001b[43m,\u001b[49m\u001b[43m \u001b[49m\u001b[38;5;124;43m'\u001b[39;49m\u001b[38;5;124;43mmasked_notetext\u001b[39;49m\u001b[38;5;124;43m'\u001b[39;49m\u001b[43m)\u001b[49m\n",
            "File \u001b[0;32m/mnt/batch/tasks/shared/LS_root/mounts/clusters/rnaugher3/code/Common/Project-Repos/NLP_Toolkit/DataProcessing.py:54\u001b[0m, in \u001b[0;36mtext_cleaning\u001b[0;34m(df, txt_col_name)\u001b[0m\n\u001b[1;32m     53\u001b[0m \u001b[38;5;28;01mdef\u001b[39;00m \u001b[38;5;21mtext_cleaning\u001b[39m(df, txt_col_name):\n\u001b[0;32m---> 54\u001b[0m     df[txt_col_name] \u001b[38;5;241m=\u001b[39m \u001b[43mdf\u001b[49m\u001b[43m[\u001b[49m\u001b[43mtxt_col_name\u001b[49m\u001b[43m]\u001b[49m\u001b[38;5;241;43m.\u001b[39;49m\u001b[43mapply\u001b[49m\u001b[43m(\u001b[49m\u001b[43mclean\u001b[49m\u001b[43m)\u001b[49m\n\u001b[1;32m     55\u001b[0m     \u001b[38;5;28;01mreturn\u001b[39;00m df[txt_col_name]\n",
            "File \u001b[0;32m/anaconda/envs/azureml_py38/lib/python3.8/site-packages/pandas/core/series.py:4213\u001b[0m, in \u001b[0;36mSeries.apply\u001b[0;34m(self, func, convert_dtype, args, **kwds)\u001b[0m\n\u001b[1;32m   4211\u001b[0m     \u001b[38;5;28;01melse\u001b[39;00m:\n\u001b[1;32m   4212\u001b[0m         values \u001b[38;5;241m=\u001b[39m \u001b[38;5;28mself\u001b[39m\u001b[38;5;241m.\u001b[39mastype(\u001b[38;5;28mobject\u001b[39m)\u001b[38;5;241m.\u001b[39m_values\n\u001b[0;32m-> 4213\u001b[0m         mapped \u001b[38;5;241m=\u001b[39m \u001b[43mlib\u001b[49m\u001b[38;5;241;43m.\u001b[39;49m\u001b[43mmap_infer\u001b[49m\u001b[43m(\u001b[49m\u001b[43mvalues\u001b[49m\u001b[43m,\u001b[49m\u001b[43m \u001b[49m\u001b[43mf\u001b[49m\u001b[43m,\u001b[49m\u001b[43m \u001b[49m\u001b[43mconvert\u001b[49m\u001b[38;5;241;43m=\u001b[39;49m\u001b[43mconvert_dtype\u001b[49m\u001b[43m)\u001b[49m\n\u001b[1;32m   4215\u001b[0m \u001b[38;5;28;01mif\u001b[39;00m \u001b[38;5;28mlen\u001b[39m(mapped) \u001b[38;5;129;01mand\u001b[39;00m \u001b[38;5;28misinstance\u001b[39m(mapped[\u001b[38;5;241m0\u001b[39m], Series):\n\u001b[1;32m   4216\u001b[0m     \u001b[38;5;66;03m# GH 25959 use pd.array instead of tolist\u001b[39;00m\n\u001b[1;32m   4217\u001b[0m     \u001b[38;5;66;03m# so extension arrays can be used\u001b[39;00m\n\u001b[1;32m   4218\u001b[0m     \u001b[38;5;28;01mreturn\u001b[39;00m \u001b[38;5;28mself\u001b[39m\u001b[38;5;241m.\u001b[39m_constructor_expanddim(pd\u001b[38;5;241m.\u001b[39marray(mapped), index\u001b[38;5;241m=\u001b[39m\u001b[38;5;28mself\u001b[39m\u001b[38;5;241m.\u001b[39mindex)\n",
            "File \u001b[0;32mpandas/_libs/lib.pyx:2403\u001b[0m, in \u001b[0;36mpandas._libs.lib.map_infer\u001b[0;34m()\u001b[0m\n",
            "File \u001b[0;32m/mnt/batch/tasks/shared/LS_root/mounts/clusters/rnaugher3/code/Common/Project-Repos/NLP_Toolkit/DataProcessing.py:20\u001b[0m, in \u001b[0;36mclean\u001b[0;34m(text)\u001b[0m\n\u001b[1;32m     18\u001b[0m \u001b[38;5;28;01mdef\u001b[39;00m \u001b[38;5;21mclean\u001b[39m(text):\n\u001b[1;32m     19\u001b[0m     \u001b[38;5;66;03m#Removing URLs\u001b[39;00m\n\u001b[0;32m---> 20\u001b[0m     text \u001b[38;5;241m=\u001b[39m \u001b[43mre\u001b[49m\u001b[38;5;241;43m.\u001b[39;49m\u001b[43msub\u001b[49m\u001b[43m(\u001b[49m\u001b[38;5;124;43mr\u001b[39;49m\u001b[38;5;124;43m'\u001b[39;49m\u001b[38;5;124;43mhttps?://\u001b[39;49m\u001b[38;5;124;43m\\\u001b[39;49m\u001b[38;5;124;43mS+|www\u001b[39;49m\u001b[38;5;124;43m\\\u001b[39;49m\u001b[38;5;124;43m.\u001b[39;49m\u001b[38;5;124;43m\\\u001b[39;49m\u001b[38;5;124;43mS+\u001b[39;49m\u001b[38;5;124;43m'\u001b[39;49m\u001b[43m,\u001b[49m\u001b[43m \u001b[49m\u001b[38;5;124;43m'\u001b[39;49m\u001b[38;5;124;43m'\u001b[39;49m\u001b[43m,\u001b[49m\u001b[43m \u001b[49m\u001b[43mtext\u001b[49m\u001b[43m)\u001b[49m\n\u001b[1;32m     21\u001b[0m     \u001b[38;5;66;03m#Removing Email addresses\u001b[39;00m\n\u001b[1;32m     22\u001b[0m     text \u001b[38;5;241m=\u001b[39m re\u001b[38;5;241m.\u001b[39msub(\u001b[38;5;124mr\u001b[39m\u001b[38;5;124m'\u001b[39m\u001b[38;5;124m\\\u001b[39m\u001b[38;5;124mS*@\u001b[39m\u001b[38;5;124m\\\u001b[39m\u001b[38;5;124mS*\u001b[39m\u001b[38;5;124m\\\u001b[39m\u001b[38;5;124ms?\u001b[39m\u001b[38;5;124m'\u001b[39m, \u001b[38;5;124m'\u001b[39m\u001b[38;5;124m'\u001b[39m, text)\n",
            "File \u001b[0;32m/anaconda/envs/azureml_py38/lib/python3.8/re.py:210\u001b[0m, in \u001b[0;36msub\u001b[0;34m(pattern, repl, string, count, flags)\u001b[0m\n\u001b[1;32m    203\u001b[0m \u001b[38;5;28;01mdef\u001b[39;00m \u001b[38;5;21msub\u001b[39m(pattern, repl, string, count\u001b[38;5;241m=\u001b[39m\u001b[38;5;241m0\u001b[39m, flags\u001b[38;5;241m=\u001b[39m\u001b[38;5;241m0\u001b[39m):\n\u001b[1;32m    204\u001b[0m \u001b[38;5;250m    \u001b[39m\u001b[38;5;124;03m\"\"\"Return the string obtained by replacing the leftmost\u001b[39;00m\n\u001b[1;32m    205\u001b[0m \u001b[38;5;124;03m    non-overlapping occurrences of the pattern in string by the\u001b[39;00m\n\u001b[1;32m    206\u001b[0m \u001b[38;5;124;03m    replacement repl.  repl can be either a string or a callable;\u001b[39;00m\n\u001b[1;32m    207\u001b[0m \u001b[38;5;124;03m    if a string, backslash escapes in it are processed.  If it is\u001b[39;00m\n\u001b[1;32m    208\u001b[0m \u001b[38;5;124;03m    a callable, it's passed the Match object and must return\u001b[39;00m\n\u001b[1;32m    209\u001b[0m \u001b[38;5;124;03m    a replacement string to be used.\"\"\"\u001b[39;00m\n\u001b[0;32m--> 210\u001b[0m     \u001b[38;5;28;01mreturn\u001b[39;00m \u001b[43m_compile\u001b[49m\u001b[43m(\u001b[49m\u001b[43mpattern\u001b[49m\u001b[43m,\u001b[49m\u001b[43m \u001b[49m\u001b[43mflags\u001b[49m\u001b[43m)\u001b[49m\u001b[38;5;241;43m.\u001b[39;49m\u001b[43msub\u001b[49m\u001b[43m(\u001b[49m\u001b[43mrepl\u001b[49m\u001b[43m,\u001b[49m\u001b[43m \u001b[49m\u001b[43mstring\u001b[49m\u001b[43m,\u001b[49m\u001b[43m \u001b[49m\u001b[43mcount\u001b[49m\u001b[43m)\u001b[49m\n",
            "\u001b[0;31mTypeError\u001b[0m: expected string or bytes-like object"
          ]
        }
      ],
      "execution_count": 13,
      "metadata": {
        "jupyter": {
          "source_hidden": false,
          "outputs_hidden": false
        },
        "nteract": {
          "transient": {
            "deleting": false
          }
        },
        "gather": {
          "logged": 1708722178561
        }
      }
    }
  ],
  "metadata": {
    "kernelspec": {
      "name": "python38-azureml",
      "language": "python",
      "display_name": "Python 3.8 - AzureML"
    },
    "language_info": {
      "name": "python",
      "version": "3.8.5",
      "mimetype": "text/x-python",
      "codemirror_mode": {
        "name": "ipython",
        "version": 3
      },
      "pygments_lexer": "ipython3",
      "nbconvert_exporter": "python",
      "file_extension": ".py"
    },
    "microsoft": {
      "ms_spell_check": {
        "ms_spell_check_language": "en"
      },
      "host": {
        "AzureML": {
          "notebookHasBeenCompleted": true
        }
      }
    },
    "nteract": {
      "version": "nteract-front-end@1.0.0"
    },
    "kernel_info": {
      "name": "python38-azureml"
    }
  },
  "nbformat": 4,
  "nbformat_minor": 2
}