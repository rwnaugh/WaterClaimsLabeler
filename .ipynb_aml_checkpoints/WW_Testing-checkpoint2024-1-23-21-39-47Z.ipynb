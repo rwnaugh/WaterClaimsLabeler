{
  "cells": [
    {
      "cell_type": "code",
      "source": [
        "import tempfile\n",
        "import os\n",
        "from azureml.core import Workspace, Dataset, Datastore\n",
        "from azureml.data import dataset_factory, datapath\n",
        "from IPython.display import display\n",
        "from DataProcessing import combine_notes, clean, text_cleaning, prep_text_field"
      ],
      "outputs": [],
      "execution_count": 11,
      "metadata": {
        "jupyter": {
          "outputs_hidden": true
        },
        "gather": {
          "logged": 1708723855406
        }
      }
    },
    {
      "cell_type": "code",
      "source": [
        "workspace = Workspace.from_config()\n",
        "print(workspace.name, workspace.resource_group, workspace.location, workspace.subscription_id, sep='\\n')\n",
        "\n",
        "# previously registered as Datastores\n",
        "pldev_dw_ds = Datastore.get(workspace, 'plddev_dw_sql_db')\n",
        "hanoverlake_ds = Datastore.get(workspace, 'hanoverlake_adls_gen1')\n",
        "plaadl_ds = Datastore.get(workspace, 'plaadl')"
      ],
      "outputs": [
        {
          "output_type": "stream",
          "name": "stdout",
          "text": "plds_ml\nmachine_learning\neastus2\n51bbe03c-c84f-488f-9e90-446bc59e683e\n"
        }
      ],
      "execution_count": 2,
      "metadata": {
        "jupyter": {
          "source_hidden": false,
          "outputs_hidden": false
        },
        "nteract": {
          "transient": {
            "deleting": false
          }
        },
        "gather": {
          "logged": 1708723461583
        }
      }
    },
    {
      "cell_type": "code",
      "source": [
        "query = datapath.DataPath(pldev_dw_ds, \"SELECT * FROM SANDBOX.clm_notes_WW WHERE (WATER_WEATHER = 1 OR WATER_NONWEATHER = 1) AND masked_notetext NOT LIKE 'Restoring claim from M2A accelerator' AND author != 'HCS Converted'\")\n",
        "tabular = Dataset.Tabular.from_sql_query(query, query_timeout=10)\n",
        "test_df = tabular.to_pandas_dataframe()"
      ],
      "outputs": [
        {
          "output_type": "stream",
          "name": "stdout",
          "text": "Resolving access token for scope \"https://database.windows.net//.default\" using identity of type \"MANAGED\".\nGetting data access token with Assigned Identity (client_id=clientid) and endpoint type based on configuration\n"
        }
      ],
      "execution_count": 4,
      "metadata": {
        "jupyter": {
          "source_hidden": false,
          "outputs_hidden": false
        },
        "nteract": {
          "transient": {
            "deleting": false
          }
        },
        "gather": {
          "logged": 1708723519977
        }
      }
    },
    {
      "cell_type": "code",
      "source": [
        "test_df.head()"
      ],
      "outputs": [],
      "execution_count": null,
      "metadata": {
        "jupyter": {
          "source_hidden": false,
          "outputs_hidden": false
        },
        "nteract": {
          "transient": {
            "deleting": false
          }
        },
        "gather": {
          "logged": 1708723520073
        }
      }
    },
    {
      "cell_type": "code",
      "source": [
        "text_cleaning(test_df, 'masked_notetext')"
      ],
      "outputs": [
        {
          "output_type": "execute_result",
          "execution_count": 6,
          "data": {
            "text/plain": "0          coverage analysis ho homeowners special form l...\n1          inspection investigation present at inspection...\n2                                       approve reassignment\n3          water mitigation vendor name service master by...\n4          policy in force at time of loss a dwelling b o...\n                                 ...                        \n1102690    pipe break invoice on file recon a rcv deducti...\n1102691    received hoa insurance quote for the repairs w...\n1102692    obc to insd lvm requesting call back to scope ...\n1102693    using short template due to cat claim volume v...\n1102694    call from insd sp came in and drilled holes in...\nName: masked_notetext, Length: 1102695, dtype: object"
          },
          "metadata": {}
        }
      ],
      "execution_count": 6,
      "metadata": {
        "jupyter": {
          "source_hidden": false,
          "outputs_hidden": false
        },
        "nteract": {
          "transient": {
            "deleting": false
          }
        },
        "gather": {
          "logged": 1708723616535
        }
      }
    },
    {
      "cell_type": "code",
      "source": [
        "test_df.masked_notetext.to_numpy()[18]"
      ],
      "outputs": [
        {
          "output_type": "execute_result",
          "execution_count": 17,
          "data": {
            "text/plain": "'initial coverage analysis the insured has a homeowners policy under form ho ed the policy s original effective date is open peril coverage for building and named peril coverage for contents building coverage for resulting water damage due to hot water heater break is afforded as no exclusion is applicable cts covered under acc discharge named peril applicable limits deductible year constructed platinum customer yes deductible building limits r c applies yes contents limits r c applies yes other structures r c applies limited ale limits waiting period none applicable endorsements including any special limits that apply to loss endorsement number ho r c cts mortgagee on file wells fargo loss history analysis iso performed iso search windstorm loss not related initial contact see notes contacted mr whitton details of damages being claimed building basement drywall carpet and paint other structures none contents to be determined at inspection coverage for contents named peril extent of damages repair vs replace vendors needed documentation photos disposal address with insured delay in reporting due to reported when loss discovered setting expectations i confirmed and explained deductible confirmed mortgage is correct as listed on the policy and explained coverage and set expectations for the claim process appointment date time at am water mitigation water mitigation was called in by insured servpro of n westchester mold coverage mold should not be an issue expected ale stay no ale expected from loss applicable reserves cova tbd covb covc tbd covd subrogation root cause of loss currently claimed to be hot water heater approximate age of the materials that failed over yrs recent repairs none maintenance agreement none siu adj sees no red flags at this time no siu involvement is needed at this point plan of action inspect loss'"
          },
          "metadata": {}
        }
      ],
      "execution_count": 17,
      "metadata": {
        "jupyter": {
          "source_hidden": false,
          "outputs_hidden": false
        },
        "nteract": {
          "transient": {
            "deleting": false
          }
        },
        "gather": {
          "logged": 1708724111680
        }
      }
    },
    {
      "cell_type": "code",
      "source": [
        "prep_text_field(test_df, 'masked_notetext', {'insd':'insured', 'ppl':'people', 'dmgd':'damaged', 'cvg':'coverage'})"
      ],
      "outputs": [],
      "execution_count": null,
      "metadata": {
        "jupyter": {
          "source_hidden": false,
          "outputs_hidden": false
        },
        "nteract": {
          "transient": {
            "deleting": false
          }
        },
        "gather": {
          "logged": 1708724199459
        }
      }
    },
    {
      "cell_type": "code",
      "source": [
        "test_df.head()"
      ],
      "outputs": [],
      "execution_count": null,
      "metadata": {
        "jupyter": {
          "source_hidden": false,
          "outputs_hidden": false
        },
        "nteract": {
          "transient": {
            "deleting": false
          }
        },
        "gather": {
          "logged": 1708724237837
        }
      }
    }
  ],
  "metadata": {
    "kernelspec": {
      "name": "python38-azureml",
      "language": "python",
      "display_name": "Python 3.8 - AzureML"
    },
    "language_info": {
      "name": "python",
      "version": "3.8.5",
      "mimetype": "text/x-python",
      "codemirror_mode": {
        "name": "ipython",
        "version": 3
      },
      "pygments_lexer": "ipython3",
      "nbconvert_exporter": "python",
      "file_extension": ".py"
    },
    "microsoft": {
      "ms_spell_check": {
        "ms_spell_check_language": "en"
      },
      "host": {
        "AzureML": {
          "notebookHasBeenCompleted": true
        }
      }
    },
    "nteract": {
      "version": "nteract-front-end@1.0.0"
    },
    "kernel_info": {
      "name": "python38-azureml"
    }
  },
  "nbformat": 4,
  "nbformat_minor": 2
}