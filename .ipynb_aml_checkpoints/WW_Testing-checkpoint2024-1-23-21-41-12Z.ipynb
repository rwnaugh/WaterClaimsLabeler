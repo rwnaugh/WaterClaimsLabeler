{
  "cells": [
    {
      "cell_type": "code",
      "source": [
        "import tempfile\n",
        "import os\n",
        "from azureml.core import Workspace, Dataset, Datastore\n",
        "from azureml.data import dataset_factory, datapath\n",
        "from IPython.display import display\n",
        "from DataProcessing import combine_notes, clean, text_cleaning, replace_abbrevs"
      ],
      "outputs": [],
      "execution_count": 3,
      "metadata": {
        "jupyter": {
          "outputs_hidden": true
        },
        "gather": {
          "logged": 1708724438516
        }
      }
    },
    {
      "cell_type": "code",
      "source": [
        "workspace = Workspace.from_config()\n",
        "print(workspace.name, workspace.resource_group, workspace.location, workspace.subscription_id, sep='\\n')\n",
        "\n",
        "# previously registered as Datastores\n",
        "pldev_dw_ds = Datastore.get(workspace, 'plddev_dw_sql_db')\n",
        "hanoverlake_ds = Datastore.get(workspace, 'hanoverlake_adls_gen1')\n",
        "plaadl_ds = Datastore.get(workspace, 'plaadl')"
      ],
      "outputs": [
        {
          "output_type": "stream",
          "name": "stdout",
          "text": "plds_ml\nmachine_learning\neastus2\n51bbe03c-c84f-488f-9e90-446bc59e683e\n"
        }
      ],
      "execution_count": 4,
      "metadata": {
        "jupyter": {
          "source_hidden": false,
          "outputs_hidden": false
        },
        "nteract": {
          "transient": {
            "deleting": false
          }
        },
        "gather": {
          "logged": 1708724441420
        }
      }
    },
    {
      "cell_type": "code",
      "source": [
        "query = datapath.DataPath(pldev_dw_ds, \"SELECT * FROM SANDBOX.clm_notes_WW WHERE (WATER_WEATHER = 1 OR WATER_NONWEATHER = 1) AND masked_notetext NOT LIKE 'Restoring claim from M2A accelerator' AND author != 'HCS Converted'\")\n",
        "tabular = Dataset.Tabular.from_sql_query(query, query_timeout=10)\n",
        "test_df = tabular.to_pandas_dataframe()"
      ],
      "outputs": [
        {
          "output_type": "stream",
          "name": "stdout",
          "text": "Resolving access token for scope \"https://database.windows.net//.default\" using identity of type \"MANAGED\".\nGetting data access token with Assigned Identity (client_id=clientid) and endpoint type based on configuration\n"
        }
      ],
      "execution_count": 5,
      "metadata": {
        "jupyter": {
          "source_hidden": false,
          "outputs_hidden": false
        },
        "nteract": {
          "transient": {
            "deleting": false
          }
        },
        "gather": {
          "logged": 1708723519977
        }
      }
    },
    {
      "cell_type": "code",
      "source": [
        "test_df.head()"
      ],
      "outputs": [],
      "execution_count": null,
      "metadata": {
        "jupyter": {
          "source_hidden": false,
          "outputs_hidden": false
        },
        "nteract": {
          "transient": {
            "deleting": false
          }
        },
        "gather": {
          "logged": 1708723520073
        }
      }
    },
    {
      "cell_type": "code",
      "source": [
        "text_cleaning(test_df, 'masked_notetext')"
      ],
      "outputs": [],
      "execution_count": null,
      "metadata": {
        "jupyter": {
          "source_hidden": false,
          "outputs_hidden": false
        },
        "nteract": {
          "transient": {
            "deleting": false
          }
        },
        "gather": {
          "logged": 1708723616535
        }
      }
    },
    {
      "cell_type": "code",
      "source": [
        "test_df.head()"
      ],
      "outputs": [],
      "execution_count": null,
      "metadata": {
        "jupyter": {
          "source_hidden": false,
          "outputs_hidden": false
        },
        "nteract": {
          "transient": {
            "deleting": false
          }
        },
        "gather": {
          "logged": 1708724111680
        }
      }
    },
    {
      "cell_type": "code",
      "source": [
        "replace_abbrevs(test_df, 'masked_notetext', {'insd':'insured', 'ppl':'people', 'dmgd':'damaged', 'cvg':'coverage'})"
      ],
      "outputs": [],
      "execution_count": null,
      "metadata": {
        "jupyter": {
          "source_hidden": false,
          "outputs_hidden": false
        },
        "nteract": {
          "transient": {
            "deleting": false
          }
        },
        "gather": {
          "logged": 1708724199459
        }
      }
    },
    {
      "cell_type": "code",
      "source": [],
      "outputs": [],
      "execution_count": null,
      "metadata": {
        "jupyter": {
          "source_hidden": false,
          "outputs_hidden": false
        },
        "nteract": {
          "transient": {
            "deleting": false
          }
        },
        "gather": {
          "logged": 1708724238919
        }
      }
    }
  ],
  "metadata": {
    "kernelspec": {
      "name": "python38-azureml",
      "language": "python",
      "display_name": "Python 3.8 - AzureML"
    },
    "language_info": {
      "name": "python",
      "version": "3.8.5",
      "mimetype": "text/x-python",
      "codemirror_mode": {
        "name": "ipython",
        "version": 3
      },
      "pygments_lexer": "ipython3",
      "nbconvert_exporter": "python",
      "file_extension": ".py"
    },
    "microsoft": {
      "ms_spell_check": {
        "ms_spell_check_language": "en"
      },
      "host": {
        "AzureML": {
          "notebookHasBeenCompleted": true
        }
      }
    },
    "nteract": {
      "version": "nteract-front-end@1.0.0"
    },
    "kernel_info": {
      "name": "python38-azureml"
    }
  },
  "nbformat": 4,
  "nbformat_minor": 2
}